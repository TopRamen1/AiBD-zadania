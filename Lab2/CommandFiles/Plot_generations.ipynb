{
 "cells": [
  {
   "cell_type": "code",
   "execution_count": 1,
   "source": [
    "import pandas as pd"
   ],
   "outputs": [],
   "metadata": {}
  },
  {
   "cell_type": "code",
   "execution_count": 9,
   "source": [
    "df = pd.read_csv(\"../AnalysisData/beer_top_10\")\n",
    "\n",
    "df.plot.bar(x='country', y='beer_servings', rot=0)"
   ],
   "outputs": [
    {
     "output_type": "error",
     "ename": "SyntaxError",
     "evalue": "invalid syntax (<ipython-input-9-4b3efdb4b867>, line 3)",
     "traceback": [
      "\u001b[0;36m  File \u001b[0;32m\"<ipython-input-9-4b3efdb4b867>\"\u001b[0;36m, line \u001b[0;32m3\u001b[0m\n\u001b[0;31m    df.plot.bar(x='country', y='beer_servings' rot=0)\u001b[0m\n\u001b[0m                                               ^\u001b[0m\n\u001b[0;31mSyntaxError\u001b[0m\u001b[0;31m:\u001b[0m invalid syntax\n"
     ]
    }
   ],
   "metadata": {}
  }
 ],
 "metadata": {
  "orig_nbformat": 4,
  "language_info": {
   "name": "python",
   "version": "3.9.4",
   "mimetype": "text/x-python",
   "codemirror_mode": {
    "name": "ipython",
    "version": 3
   },
   "pygments_lexer": "ipython3",
   "nbconvert_exporter": "python",
   "file_extension": ".py"
  },
  "kernelspec": {
   "name": "python3",
   "display_name": "Python 3.9.4 64-bit ('aibd1': conda)"
  },
  "interpreter": {
   "hash": "74f19e6e8194b00ef481d5b53bd3e722ecd9a07f5c028c1ce022c648c5c3d261"
  }
 },
 "nbformat": 4,
 "nbformat_minor": 2
}