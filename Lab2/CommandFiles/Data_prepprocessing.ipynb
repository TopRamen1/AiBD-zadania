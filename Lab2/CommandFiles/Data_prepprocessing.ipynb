{
 "cells": [
  {
   "cell_type": "code",
   "execution_count": 1,
   "source": [
    "import pandas as pd\n"
   ],
   "outputs": [],
   "metadata": {}
  },
  {
   "cell_type": "code",
   "execution_count": 2,
   "source": [
    "data_df = pd.read_csv(\"../OriginalData/drinks.csv\")\n",
    "\n",
    "print(data_df)\n"
   ],
   "outputs": [
    {
     "output_type": "stream",
     "name": "stdout",
     "text": [
      "         country  beer_servings  spirit_servings  wine_servings  \\\n",
      "0    Afghanistan              0                0              0   \n",
      "1        Albania             89              132             54   \n",
      "2        Algeria             25                0             14   \n",
      "3        Andorra            245              138            312   \n",
      "4         Angola            217               57             45   \n",
      "..           ...            ...              ...            ...   \n",
      "188    Venezuela            333              100              3   \n",
      "189      Vietnam            111                2              1   \n",
      "190        Yemen              6                0              0   \n",
      "191       Zambia             32               19              4   \n",
      "192     Zimbabwe             64               18              4   \n",
      "\n",
      "     total_litres_of_pure_alcohol  \n",
      "0                             0.0  \n",
      "1                             4.9  \n",
      "2                             0.7  \n",
      "3                            12.4  \n",
      "4                             5.9  \n",
      "..                            ...  \n",
      "188                           7.7  \n",
      "189                           2.0  \n",
      "190                           0.1  \n",
      "191                           2.5  \n",
      "192                           4.7  \n",
      "\n",
      "[193 rows x 5 columns]\n"
     ]
    }
   ],
   "metadata": {}
  },
  {
   "cell_type": "code",
   "execution_count": 22,
   "source": [
    "beer_df = data_df.nlargest(10, 'beer_servings')\n",
    "\n",
    "beer_df = beer_df.drop(['spirit_servings', 'wine_servings', 'total_litres_of_pure_alcohol'], axis=1)\n",
    "\n",
    "beer_df.to_csv( '../AnalysisData/beer_top_10', index=False)"
   ],
   "outputs": [],
   "metadata": {}
  },
  {
   "cell_type": "code",
   "execution_count": 21,
   "source": [
    "sprit_df = data_df.nlargest(10, 'spirit_servings')\n",
    "sprit_df = sprit_df.drop(['beer_servings', 'wine_servings', 'total_litres_of_pure_alcohol'], axis=1)\n",
    "\n",
    "sprit_df.to_csv( '../AnalysisData/spirit_top_10', index=False)"
   ],
   "outputs": [],
   "metadata": {}
  },
  {
   "cell_type": "code",
   "execution_count": 19,
   "source": [
    "wine_df = data_df.nlargest(10, 'wine_servings')\n",
    "wine_df = wine_df.drop(['spirit_servings', 'beer_servings', 'total_litres_of_pure_alcohol'], axis=1)\n",
    "\n",
    "wine_df.to_csv( '../AnalysisData/wine_top_10', index=False)"
   ],
   "outputs": [],
   "metadata": {}
  },
  {
   "cell_type": "markdown",
   "source": [],
   "metadata": {}
  },
  {
   "cell_type": "markdown",
   "source": [],
   "metadata": {}
  }
 ],
 "metadata": {
  "kernelspec": {
   "name": "python3",
   "display_name": "Python 3.9.4 64-bit ('aibd1': conda)"
  },
  "language_info": {
   "codemirror_mode": {
    "name": "ipython",
    "version": 3
   },
   "file_extension": ".py",
   "mimetype": "text/x-python",
   "name": "python",
   "nbconvert_exporter": "python",
   "pygments_lexer": "ipython3",
   "version": "3.9.4"
  },
  "interpreter": {
   "hash": "74f19e6e8194b00ef481d5b53bd3e722ecd9a07f5c028c1ce022c648c5c3d261"
  }
 },
 "nbformat": 4,
 "nbformat_minor": 4
}